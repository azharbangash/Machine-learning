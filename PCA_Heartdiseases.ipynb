{
  "nbformat": 4,
  "nbformat_minor": 0,
  "metadata": {
    "colab": {
      "provenance": [],
      "authorship_tag": "ABX9TyN/NHZ1dgq8Pi7a6soF/7T/",
      "include_colab_link": true
    },
    "kernelspec": {
      "name": "python3",
      "display_name": "Python 3"
    },
    "language_info": {
      "name": "python"
    }
  },
  "cells": [
    {
      "cell_type": "markdown",
      "metadata": {
        "id": "view-in-github",
        "colab_type": "text"
      },
      "source": [
        "<a href=\"https://colab.research.google.com/github/azharbangash/Machine-learning/blob/main/PCA_Heartdiseases.ipynb\" target=\"_parent\"><img src=\"https://colab.research.google.com/assets/colab-badge.svg\" alt=\"Open In Colab\"/></a>"
      ]
    },
    {
      "cell_type": "code",
      "execution_count": 1,
      "metadata": {
        "colab": {
          "base_uri": "https://localhost:8080/"
        },
        "id": "M_1EMsJvIClv",
        "outputId": "3878e269-cacc-443b-cf1a-a4ab24496778"
      },
      "outputs": [
        {
          "output_type": "stream",
          "name": "stdout",
          "text": [
            "Step 1: Get some data\n",
            "Data:\n",
            " [[63.  1.  3. ...  0.  1.  1.]\n",
            " [37.  1.  2. ...  0.  2.  1.]\n",
            " [41.  0.  1. ...  0.  2.  1.]\n",
            " ...\n",
            " [68.  1.  0. ...  2.  3.  0.]\n",
            " [57.  1.  0. ...  1.  3.  0.]\n",
            " [57.  0.  1. ...  1.  2.  0.]]\n"
          ]
        }
      ],
      "source": [
        "import numpy as np\n",
        "import matplotlib.pyplot as plt\n",
        "import pandas as pd\n",
        "from sklearn.preprocessing import LabelEncoder\n",
        "\n",
        "df = pd.read_csv('/content/heart_disease_data.csv')\n",
        "\n",
        "a = df[\"age\"]\n",
        "b = df[\"sex\"]\n",
        "c = df[\"cp\"]\n",
        "d = df[\"trestbps\"]\n",
        "e = df[\"chol\"]\n",
        "f = df[\"fbs\"]\n",
        "g = df[\"restecg\"]\n",
        "h = df[\"thalach\"]\n",
        "i = df[\"exang\"]\n",
        "j = df[\"oldpeak\"]\n",
        "k = df[\"slope\"]\n",
        "l = df[\"ca\"]\n",
        "m = df[\"thal\"]\n",
        "n = df[\"target\"]\n",
        "\n",
        "data = np.array([a,b,c,d,e,f,g,h,i,j,k,l,m,n]).T\n",
        "print(\"Step 1: Get some data\")\n",
        "print(\"Data:\\n\", data)"
      ]
    },
    {
      "cell_type": "code",
      "source": [
        "mean_a = np.mean(a)\n",
        "mean_b = np.mean(b)\n",
        "mean_c = np.mean(c)\n",
        "mean_d = np.mean(d)\n",
        "mean_e = np.mean(e)\n",
        "mean_f = np.mean(f)\n",
        "mean_g = np.mean(g)\n",
        "mean_h = np.mean(h)\n",
        "mean_i = np.mean(i)\n",
        "mean_j = np.mean(j)\n",
        "mean_k = np.mean(k)\n",
        "mean_l = np.mean(l)\n",
        "mean_m = np.mean(m)\n",
        "mean_n = np.mean(n)\n",
        "mean_vector = np.array([mean_a, mean_b, mean_c, mean_d,\n",
        "                        mean_e, mean_f, mean_g, mean_h, mean_i,\n",
        "                        mean_j, mean_k, mean_l, mean_m,mean_n])\n",
        "print(\"Mean Vector:\", mean_vector)\n",
        "centered_data = data - mean_vector\n",
        "print(\"\\nStep 2: Subtract the mean\")\n",
        "print(\"Mean_a\",mean_a,\"Mean_b\",mean_b,\"Mean_c\",mean_c,\n",
        "      \"Mean_d\",mean_d,\"Mean_e\",mean_e,\"Mean_f\",mean_f,\"Mean_g\",\n",
        "      mean_g,\"Mean_h\",mean_h,\"Mean_i\",mean_i,\"Mean_j\",mean_j,\"Mean_k\"\n",
        "      ,mean_k,\"Mean_l\",mean_l,\"Mean_m\",mean_m,\"Mean_n\",mean_n)\n",
        "print(\"Centered Data:\\n\", centered_data)"
      ],
      "metadata": {
        "colab": {
          "base_uri": "https://localhost:8080/"
        },
        "id": "BJaKEEvcIgIT",
        "outputId": "526084bc-d6de-4140-9bc7-11b8f13bd9c2"
      },
      "execution_count": 2,
      "outputs": [
        {
          "output_type": "stream",
          "name": "stdout",
          "text": [
            "Mean Vector: [5.43663366e+01 6.83168317e-01 9.66996700e-01 1.31623762e+02\n",
            " 2.46264026e+02 1.48514851e-01 5.28052805e-01 1.49646865e+02\n",
            " 3.26732673e-01 1.03960396e+00 1.39933993e+00 7.29372937e-01\n",
            " 2.31353135e+00 5.44554455e-01]\n",
            "\n",
            "Step 2: Subtract the mean\n",
            "Mean_a 54.366336633663366 Mean_b 0.6831683168316832 Mean_c 0.966996699669967 Mean_d 131.62376237623764 Mean_e 246.26402640264027 Mean_f 0.1485148514851485 Mean_g 0.528052805280528 Mean_h 149.64686468646866 Mean_i 0.32673267326732675 Mean_j 1.0396039603960396 Mean_k 1.3993399339933994 Mean_l 0.7293729372937293 Mean_m 2.3135313531353137 Mean_n 0.5445544554455446\n",
            "Centered Data:\n",
            " [[  8.63366337   0.31683168   2.0330033  ...  -0.72937294  -1.31353135\n",
            "    0.45544554]\n",
            " [-17.36633663   0.31683168   1.0330033  ...  -0.72937294  -0.31353135\n",
            "    0.45544554]\n",
            " [-13.36633663  -0.68316832   0.0330033  ...  -0.72937294  -0.31353135\n",
            "    0.45544554]\n",
            " ...\n",
            " [ 13.63366337   0.31683168  -0.9669967  ...   1.27062706   0.68646865\n",
            "   -0.54455446]\n",
            " [  2.63366337   0.31683168  -0.9669967  ...   0.27062706   0.68646865\n",
            "   -0.54455446]\n",
            " [  2.63366337  -0.68316832   0.0330033  ...   0.27062706  -0.31353135\n",
            "   -0.54455446]]\n"
          ]
        }
      ]
    },
    {
      "cell_type": "code",
      "source": [
        "cov_matrix = np.cov(centered_data, rowvar=False)\n",
        "print(\"\\nStep 3: Covariance Matrix:\\n\", cov_matrix)\n",
        "\n",
        "eigenvalues, eigenvectors = np.linalg.eig(cov_matrix)\n",
        "print(\"\\nStep 4: Eigenvalues:\\n\", eigenvalues)\n",
        "print(\"Eigenvectors:\\n\", eigenvectors)"
      ],
      "metadata": {
        "colab": {
          "base_uri": "https://localhost:8080/"
        },
        "id": "FxJ7NlAcIhyx",
        "outputId": "40ee12a9-64db-4469-93af-65060c45b5e5"
      },
      "execution_count": 3,
      "outputs": [
        {
          "output_type": "stream",
          "name": "stdout",
          "text": [
            "\n",
            "Step 3: Covariance Matrix:\n",
            " [[ 8.24845584e+01 -4.16661203e-01 -6.43498787e-01  4.44959019e+01\n",
            "   1.00585076e+02  3.92433283e-01 -5.55012786e-01 -8.29033178e+01\n",
            "   4.13022097e-01  2.21458265e+00 -9.44790506e-01  2.56635630e+00\n",
            "   3.78139138e-01 -1.02134286e+00]\n",
            " [-4.16661203e-01  2.17166087e-01 -2.37361484e-02 -4.63969576e-01\n",
            "  -4.78030949e+00  7.47491968e-03 -1.42613599e-02 -4.69870828e-01\n",
            "   3.10143597e-02  5.19933119e-02 -8.81909383e-03  5.63569602e-02\n",
            "   5.99304964e-02 -6.53071930e-02]\n",
            " [-6.43498787e-01 -2.37361484e-02  1.06513234e+00  8.61713986e-01\n",
            "  -4.11377396e+00  3.47190348e-02  2.41077088e-02  6.99161804e+00\n",
            "  -1.91167792e-01 -1.78821061e-01  7.61370839e-02 -1.91080366e-01\n",
            "  -1.02200949e-01  2.23329618e-01]\n",
            " [ 4.44959019e+01 -4.63969576e-01  8.61713986e-01  3.07586453e+02\n",
            "   1.11967215e+02  1.10904203e+00 -1.05232444e+00 -1.87591305e+01\n",
            "   5.57111009e-01  3.93448626e+00 -1.31283195e+00  1.81837257e+00\n",
            "   6.68021769e-01 -1.26794964e+00]\n",
            " [ 1.00585076e+02 -4.78030949e+00 -4.11377396e+00  1.11967215e+02\n",
            "   2.68642675e+03  2.45426529e-01 -4.11670273e+00 -1.18004940e+01\n",
            "   1.63199134e+00  3.24679365e+00 -1.28964221e-01  3.73725220e+00\n",
            "   3.13548838e+00 -2.20385548e+00]\n",
            " [ 3.92433283e-01  7.47491968e-03  3.47190348e-02  1.10904203e+00\n",
            "   2.45426529e-01  1.26876926e-01 -1.57694577e-02 -6.98970559e-02\n",
            "   4.29480034e-03  2.37689332e-03 -1.31466789e-02  5.02589994e-02\n",
            "  -6.98314865e-03 -4.98327978e-03]\n",
            " [-5.55012786e-01 -1.42613599e-02  2.41077088e-02 -1.05232444e+00\n",
            "  -4.11670273e+00 -1.57694577e-02  2.76528315e-01  5.31462418e-01\n",
            "  -1.74742640e-02 -3.58828929e-02  3.01510283e-02 -3.87406290e-02\n",
            "  -3.85767054e-03  3.59976395e-02]\n",
            " [-8.29033178e+01 -4.69870828e-01  6.99161804e+00 -1.87591305e+01\n",
            "  -1.18004940e+01 -6.98970559e-02  5.31462418e-01  5.24646406e+02\n",
            "  -4.07629008e+00 -9.15351780e+00  5.45936878e+00 -4.99323542e+00\n",
            "  -1.35249055e+00  4.81876598e+00]\n",
            " [ 4.13022097e-01  3.10143597e-02 -1.91167792e-01  5.57111009e-01\n",
            "   1.63199134e+00  4.29480034e-03 -1.74742640e-02 -4.07629008e+00\n",
            "   2.20706839e-01  1.57215920e-01 -7.46180578e-02  5.56029113e-02\n",
            "   5.94715101e-02 -1.02353944e-01]\n",
            " [ 2.21458265e+00  5.19933119e-02 -1.78821061e-01  3.93448626e+00\n",
            "   3.24679365e+00  2.37689332e-03 -3.58828929e-02 -9.15351780e+00\n",
            "   1.57215920e-01  1.34809521e+00 -4.13218805e-01  2.64395777e-01\n",
            "   1.49462330e-01 -2.49452495e-01]\n",
            " [-9.44790506e-01 -8.81909383e-03  7.61370839e-02 -1.31283195e+00\n",
            "  -1.28964221e-01 -1.31466789e-02  3.01510283e-02  5.45936878e+00\n",
            "  -7.46180578e-02 -4.13218805e-01  3.79734662e-01 -5.05103490e-02\n",
            "  -3.95274627e-02  1.06320897e-01]\n",
            " [ 2.56635630e+00  5.63569602e-02 -1.91080366e-01  1.81837257e+00\n",
            "   3.73725220e+00  5.02589994e-02 -3.87406290e-02 -4.99323542e+00\n",
            "   5.56029113e-02  2.64395777e-01 -5.05103490e-02  1.04572378e+00\n",
            "   9.50648045e-02 -1.99822962e-01]\n",
            " [ 3.78139138e-01  5.99304964e-02 -1.02200949e-01  6.68021769e-01\n",
            "   3.13548838e+00 -6.98314865e-03 -3.85767054e-03 -1.35249055e+00\n",
            "   5.94715101e-02  1.49462330e-01 -3.95274627e-02  9.50648045e-02\n",
            "   3.74882521e-01 -1.05075077e-01]\n",
            " [-1.02134286e+00 -6.53071930e-02  2.23329618e-01 -1.26794964e+00\n",
            "  -2.20385548e+00 -4.98327978e-03  3.59976395e-02  4.81876598e+00\n",
            "  -1.02353944e-01 -2.49452495e-01  1.06320897e-01 -1.99822962e-01\n",
            "  -1.05075077e-01  2.48836142e-01]]\n",
            "\n",
            "Step 4: Eigenvalues:\n",
            " [2.69586730e+03 5.42310975e+02 3.05074420e+02 5.84780439e+01\n",
            " 1.44570855e+00 1.02439701e+00 8.25985953e-01 3.71280738e-01\n",
            " 2.82883684e-01 1.01306795e-01 1.15954910e-01 1.47822188e-01\n",
            " 1.89675533e-01 2.12092343e-01]\n",
            "Eigenvectors:\n",
            " [[ 3.94614795e-02  1.82180089e-01 -1.25495885e-01 -9.74047750e-01\n",
            "  -9.40122695e-03 -2.73784278e-03 -2.36634690e-02  4.48329230e-03\n",
            "   1.08877578e-03 -3.06326545e-03 -2.10753973e-03  1.99458762e-04\n",
            "   6.63049363e-03 -1.31502773e-04]\n",
            " [-1.78276308e-03  7.94811564e-04  1.06480108e-03  4.63572844e-03\n",
            "   8.53938293e-02  2.73905121e-02  4.52719876e-02  3.27952629e-01\n",
            "  -2.08439179e-01 -3.23312585e-01  7.17874075e-02 -4.63607337e-01\n",
            "   6.87791141e-01  2.02999933e-01]\n",
            " [-1.53724168e-03 -1.25439480e-02 -6.16266074e-03 -9.26523610e-03\n",
            "  -3.62055092e-01 -6.72828476e-01  5.89163134e-01  1.72810409e-01\n",
            "  -4.43028002e-02  6.18761150e-02 -9.63423521e-02  1.36514070e-01\n",
            "   7.16140476e-02 -1.09488294e-02]\n",
            " [ 4.75884926e-02  1.03829802e-01 -9.82271236e-01  1.48030534e-01\n",
            "  -9.85839278e-03  7.93385919e-03 -1.75458038e-03 -7.35250374e-04\n",
            "   2.58907391e-03 -2.48826575e-03 -1.85567975e-03 -2.16614211e-03\n",
            "   1.67367606e-04  2.76551786e-04]\n",
            " [ 9.98052858e-01 -1.94354879e-02  5.08658038e-02  3.02504750e-02\n",
            "  -1.51381060e-03 -1.28335652e-03  1.05590554e-03 -2.36346815e-04\n",
            "   6.02076628e-04 -4.76507817e-04  2.32652144e-04 -1.16817718e-03\n",
            "   1.78968498e-03 -1.14764672e-04]\n",
            " [ 1.16391606e-04  4.62042739e-04 -3.66503763e-03 -3.43437279e-03\n",
            "  -1.35080035e-03  1.29542923e-03  6.83009421e-02 -1.18602358e-02\n",
            "  -1.12425866e-01  3.52063597e-01  9.08115534e-01  9.26968449e-02\n",
            "   1.28223662e-01 -9.41762745e-02]\n",
            " [-1.55244139e-03 -1.20255247e-03  2.70971358e-03  2.95811834e-03\n",
            "  -2.94956576e-02 -1.47420249e-02 -3.52580854e-03 -2.08957157e-02\n",
            "   8.91870416e-01  4.60311467e-02  1.81385546e-02 -3.68991262e-02\n",
            "   3.58173781e-01 -2.66294860e-01]\n",
            " [-7.36031323e-03 -9.77144234e-01 -1.28969116e-01 -1.66473146e-01\n",
            "   2.56267352e-02  2.21388003e-03 -8.21000970e-03 -6.47227252e-04\n",
            "  -2.35145049e-03  7.80298908e-04 -1.96985327e-03  3.34142438e-03\n",
            "   3.59978022e-03 -5.00353766e-03]\n",
            " [ 6.31518371e-04  7.54892400e-03  2.84316111e-05  7.02502721e-03\n",
            "   1.17494054e-01  6.60819940e-02 -1.16592478e-01  1.28799231e-01\n",
            "  -1.03388145e-01 -2.81203395e-01 -3.69728934e-02  8.52798034e-01\n",
            "   3.60606076e-01 -5.57301581e-02]\n",
            " [ 1.32997057e-03  1.79427435e-02 -9.21452784e-03  8.06035176e-04\n",
            "   7.35231771e-01 -5.57540953e-01 -1.13595078e-01 -1.34726639e-01\n",
            "   1.24568715e-01 -4.97831773e-03  6.49764360e-02  6.22718207e-03\n",
            "  -5.51660202e-02  3.07037129e-01]\n",
            " [-1.00024087e-04 -1.04276925e-02  2.30202739e-03 -3.22373507e-03\n",
            "  -2.16927063e-01  2.24774075e-01  9.35567966e-02  8.35298996e-02\n",
            "   2.70095525e-01  1.43829701e-01  4.90748190e-02  1.64893394e-01\n",
            "  -3.01984514e-02  8.73164370e-01]\n",
            " [ 1.46780386e-03  1.01116893e-02 -4.19786067e-03 -2.23477522e-02\n",
            "   4.27137324e-01  4.10741133e-01  7.80815341e-01 -1.33190494e-01\n",
            "   3.06169717e-02 -1.04311530e-01 -1.77421935e-02  2.48956832e-02\n",
            "  -5.80355633e-02 -6.84885158e-02]\n",
            " [ 1.18218709e-03  2.59383360e-03 -1.21789823e-03  8.68347609e-04\n",
            "   1.69588136e-01  4.44601030e-02 -1.92093249e-02  8.71469043e-01\n",
            "   1.55827529e-01 -6.57076782e-02  1.02630160e-01  1.96406662e-03\n",
            "  -3.98310532e-01 -1.07878193e-01]\n",
            " [-8.66882068e-04 -9.21493046e-03  2.10693966e-03 -1.04514912e-03\n",
            "  -2.17424018e-01 -9.91387845e-02  1.53663196e-02 -2.07531856e-01\n",
            "   1.48749763e-01 -8.06579664e-01  3.76437330e-01 -3.66590347e-02\n",
            "  -2.84628655e-01  5.23625699e-02]]\n"
          ]
        }
      ]
    },
    {
      "cell_type": "code",
      "source": [
        "sorted_indices = np.argsort(eigenvalues)[::-1]\n",
        "principal_component = eigenvectors[:, sorted_indices[0]]\n",
        "print(\"\\nStep 5: Principal Components:\\n\", principal_component)\n",
        "\n",
        "pca_1d = np.dot(centered_data, principal_component)\n",
        "print(\"\\nStep 6: Reduced Data: \\n\", pca_1d)"
      ],
      "metadata": {
        "colab": {
          "base_uri": "https://localhost:8080/"
        },
        "id": "TKAHJ7gNIrMC",
        "outputId": "c0c89bf3-7986-440e-9a65-54dc94381fb6"
      },
      "execution_count": 4,
      "outputs": [
        {
          "output_type": "stream",
          "name": "stdout",
          "text": [
            "\n",
            "Step 5: Principal Components:\n",
            " [ 3.94614795e-02 -1.78276308e-03 -1.53724168e-03  4.75884926e-02\n",
            "  9.98052858e-01  1.16391606e-04 -1.55244139e-03 -7.36031323e-03\n",
            "  6.31518371e-04  1.32997057e-03 -1.00024087e-04  1.46780386e-03\n",
            "  1.18218709e-03 -8.66882068e-04]\n",
            "\n",
            "Step 6: Reduced Data: \n",
            " [-1.22677260e+01  2.68966168e+00 -4.29506397e+01 -1.09452061e+01\n",
            "  1.06978583e+02 -5.36475680e+01  4.80817376e+01  1.55656031e+01\n",
            " -4.54392787e+01 -7.73167161e+01 -6.94364572e+00  2.84255482e+01\n",
            "  1.92472904e+01 -3.58059305e+01  3.75882641e+01 -2.80002577e+01\n",
            "  9.29745575e+01 -1.86311027e+01  1.00202134e+00 -6.28457608e+00\n",
            " -1.19815542e+01 -1.39458155e+01 -2.05259522e+01 -2.03252435e+00\n",
            " -4.75532384e+01  5.75436958e+01 -3.31982257e+01 -7.20966087e+01\n",
            "  1.71167233e+02 -4.93195352e+01 -5.01011745e+01 -6.91932920e+01\n",
            " -2.79828721e+01  2.63344214e+01 -3.34683148e+01 -6.90420795e+01\n",
            "  5.76154731e+01 -1.34907402e+01  2.42323437e+01  1.15272568e+02\n",
            "  6.19382302e+01 -1.81640339e+00 -3.98586217e+01  1.76198259e+01\n",
            "  7.41397215e+01  7.77670163e+01 -1.14807962e+01  1.06762216e+01\n",
            " -3.01818704e+01 -1.20668092e+01  9.50927668e+00  5.55222835e+01\n",
            " -1.49818082e+01 -1.06782667e+02  6.05859328e+00 -4.52199890e+01\n",
            " -2.51953177e+01  1.22865473e+01 -6.57765347e+01  5.64896271e+01\n",
            "  1.84699773e+01  6.14247128e+01 -6.11928638e+01 -4.34226169e+01\n",
            " -3.47710830e+01 -6.38394290e+01 -2.58096861e+01 -1.28742529e+01\n",
            " -2.73297710e+01 -3.73528496e+01  1.11619690e+01 -2.11849622e+01\n",
            " -4.36486316e+01  1.47043526e+01 -3.42230124e+01  3.83125840e+00\n",
            " -1.83141194e+00 -2.47432327e+01 -4.17070921e+01 -7.40958860e+00\n",
            "  2.04494229e+00  6.09206023e+01  7.03295163e+01  5.22979131e+01\n",
            "  1.70061573e+01  3.16748895e+02  3.05534291e+01 -5.10059022e+01\n",
            " -3.33085610e+01  5.75997353e-01  7.91499210e+00 -3.92023254e+01\n",
            " -2.31516334e+01  4.15900144e+01 -8.73167761e+01 -1.95001918e+01\n",
            "  1.48095755e+02 -1.44337945e+01  6.79830139e+01 -5.66904396e-01\n",
            " -2.17935255e+00  2.61143805e+01 -5.06410789e+01 -7.62325896e+00\n",
            " -5.05679893e+01 -3.49564610e+01 -1.01796069e+01 -1.03265153e+01\n",
            " -3.07760530e+00  6.45074600e+00  8.12320347e+01 -1.19226671e+02\n",
            "  6.75041695e+01 -3.67586309e+01  1.56088149e+01 -3.25960201e+01\n",
            " -3.29430919e+01 -5.37424908e+01 -4.39464590e+01 -3.30094982e+00\n",
            "  5.71360413e+01  2.49342057e+01  2.00653826e+01  1.94261451e+01\n",
            " -4.97894865e+01 -3.79593045e+01 -4.33605415e+01  3.19766804e+01\n",
            " -5.01965406e+01  2.31250193e+01 -4.39413853e+01  2.44952363e+01\n",
            "  4.75041529e+01 -1.28281222e+01  5.87232262e+01  2.23028535e+01\n",
            " -6.80715823e+01 -3.79929125e+01 -4.59287257e+01  1.72400445e+01\n",
            "  4.78987037e+01  5.51534820e+01 -3.84090108e+01 -2.38814939e+01\n",
            " -4.76727365e+01  5.61015539e-01 -5.31100620e+00 -5.31713046e+00\n",
            " -2.13356308e+01 -6.67092543e+01 -1.63331594e+01 -9.71700098e+01\n",
            " -1.70637839e+01  3.27985995e+01 -2.65376543e+01 -4.89653709e+01\n",
            "  6.13246261e+00 -5.55646686e+01 -2.63403143e+01 -2.53280386e+01\n",
            " -6.88761573e+00  9.54706358e+01 -9.04138092e+01 -7.16400726e+01\n",
            " -7.16400726e+01  4.18202972e+01 -1.71256446e+01  2.23261087e+01\n",
            "  8.00753494e+00 -4.28691321e+01  9.75845694e+00 -1.86470346e+01\n",
            "  3.71765890e+01 -2.22268621e+01 -3.99035527e+01 -8.04395955e+01\n",
            " -1.67778893e+01  8.92749605e+01 -6.99082945e+01  3.09345129e+01\n",
            "  1.06703471e+02 -1.96582284e+01  8.36158731e+01 -1.71337311e+01\n",
            " -2.39230176e+00  4.22837708e+01  6.91215764e+00  1.96248724e+01\n",
            " -1.31121453e+01 -7.57371150e+01  5.84706225e+01 -3.00885619e+01\n",
            " -5.84462937e+01  3.65892208e+01 -6.05630908e+01  8.16664803e+01\n",
            " -1.46711071e+01  7.80810917e+00  2.08212496e+01  1.06334689e+00\n",
            " -5.08069695e+01  1.16900748e+01  2.49940801e+01  3.05197148e+01\n",
            " -8.04031061e+01  8.37040725e+00 -8.03570660e+00  1.27643752e+01\n",
            " -5.88343101e+01 -6.86377837e+01 -1.73022178e+01  1.34945714e+01\n",
            " -2.83942165e+01  6.15470156e+01  2.52447850e+00  9.42282352e+01\n",
            "  1.73154547e+01  8.39740723e+01  8.47346859e+00  9.38989125e+00\n",
            "  1.61618046e+02 -2.84919593e+01  3.62082399e+01  4.51068970e+01\n",
            " -8.11467348e+00 -7.06854018e+01  3.47619322e+01 -4.93412288e+01\n",
            "  4.35910266e+01  6.28147949e+01 -4.69541747e+00  4.45400205e+01\n",
            "  4.40659021e+01 -3.73220606e-02  7.64341349e+01  5.27286698e+01\n",
            "  5.33055748e+01  4.71210115e+01  5.81147143e+01  3.45886985e+01\n",
            "  2.49378235e+01  4.97910955e+00 -3.30470901e+01  2.92118416e+01\n",
            " -6.17288872e+01  2.69486282e+01  1.62602318e+02  1.76413086e+00\n",
            "  3.91896068e+01  8.72820816e+00  5.21139543e+01  3.59975945e-01\n",
            "  4.85754337e+01  5.18122837e+01  2.83930513e+01  6.27629026e+01\n",
            "  1.28346674e+01 -4.55810144e+01 -1.11399561e+00 -1.66715222e+01\n",
            " -1.56697789e+01 -1.73367835e+01  3.56093619e+01  2.17711335e+01\n",
            " -4.09212858e+01 -3.45408685e+01  8.31492551e+01 -9.77591902e+01\n",
            "  3.94408459e+01  3.69983374e+01  1.89025570e+00 -1.18316532e+01\n",
            " -8.72275326e+00 -1.36481086e+01  2.75958579e+01 -3.47379870e+01\n",
            " -2.70498808e+01  1.45096465e+01  7.29310782e+01 -7.93550294e+01\n",
            "  6.85033049e+01 -4.24969549e+01 -2.81806947e+01 -2.30480037e+01\n",
            " -3.84365481e+01  6.49013949e+01 -4.19797811e+01 -1.31740797e+01\n",
            "  8.76919260e+01 -4.11826912e+01 -4.22220497e+01  7.09772730e+01\n",
            " -1.92189093e+01 -3.27333135e+01 -7.80333212e+01 -5.83585834e+01\n",
            " -4.90896956e+01 -6.79621994e+01 -4.55359057e+00  1.64284938e+01\n",
            " -5.19632895e+01 -1.14755392e+02 -1.03957125e+01]\n"
          ]
        }
      ]
    },
    {
      "cell_type": "code",
      "source": [
        "plt.figure(figsize=(8,4))\n",
        "\n",
        "plt.subplot(1,2,1)\n",
        "plt.scatter(d,e,color='blue')\n",
        "plt.xlabel('X')\n",
        "plt.ylabel('Y')\n",
        "plt.title('Original Data')\n",
        "\n",
        "plt.subplot(1,2,2)\n",
        "plt.scatter(pca_1d,np.zeros_like(pca_1d),color='purple')\n",
        "plt.xlabel('Principal Component 1')\n",
        "plt.title('Reduced Dimensional Dataset')\n",
        "\n",
        "plt.tight_layout()\n",
        "plt.show()"
      ],
      "metadata": {
        "colab": {
          "base_uri": "https://localhost:8080/",
          "height": 407
        },
        "id": "VXAVeeKvIt6v",
        "outputId": "d8a50a6e-7cc6-483c-8645-1a76df203896"
      },
      "execution_count": 5,
      "outputs": [
        {
          "output_type": "display_data",
          "data": {
            "text/plain": [
              "<Figure size 800x400 with 2 Axes>"
            ],
            "image/png": "[encoded data removed]"
          },
          "metadata": {}
        }
      ]
    }
  ]
}