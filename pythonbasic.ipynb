{
  "nbformat": 4,
  "nbformat_minor": 0,
  "metadata": {
    "colab": {
      "provenance": [],
      "authorship_tag": "ABX9TyNAHsXLDFxfmnzmGq4b9PxR",
      "include_colab_link": true
    },
    "kernelspec": {
      "name": "python3",
      "display_name": "Python 3"
    },
    "language_info": {
      "name": "python"
    }
  },
  "cells": [
    {
      "cell_type": "markdown",
      "metadata": {
        "id": "view-in-github",
        "colab_type": "text"
      },
      "source": [
        "<a href=\"https://colab.research.google.com/github/azharbangash/Machine-learning/blob/main/pythonbasic.ipynb\" target=\"_parent\"><img src=\"https://colab.research.google.com/assets/colab-badge.svg\" alt=\"Open In Colab\"/></a>"
      ]
    },
    {
      "cell_type": "code",
      "execution_count": 1,
      "metadata": {
        "id": "YoEDhF-O_rw4",
        "colab": {
          "base_uri": "https://localhost:8080/"
        },
        "outputId": "763d3c41-564a-47bd-de00-f88026ca9cb6"
      },
      "outputs": [
        {
          "output_type": "stream",
          "name": "stdout",
          "text": [
            " Hey I am Azhar Ali \n"
          ]
        }
      ],
      "source": [
        "\n",
        "print(\" Hey I am Azhar Ali \")"
      ]
    },
    {
      "cell_type": "code",
      "source": [
        "age= 23\n",
        "height= 5.9\n",
        "name= \"Azhar Ali\"\n",
        "print(\"Name: \",name,\"\\nAge: \",age,\"\\nHeight: \",height, )"
      ],
      "metadata": {
        "colab": {
          "base_uri": "https://localhost:8080/"
        },
        "id": "mOJWbZjJDUDB",
        "outputId": "e791c7d4-1e51-4ec3-e8fa-8e964fea272d"
      },
      "execution_count": 4,
      "outputs": [
        {
          "output_type": "stream",
          "name": "stdout",
          "text": [
            "Name:  Azhar Ali \n",
            "Age:  23 \n",
            "Height:  5.9\n"
          ]
        }
      ]
    },
    {
      "cell_type": "code",
      "source": [
        "print(name,type(name))\n",
        "print(age,type(age))\n",
        "print(height,type(height))"
      ],
      "metadata": {
        "colab": {
          "base_uri": "https://localhost:8080/"
        },
        "id": "kt4w20pLEONw",
        "outputId": "e43a9d1a-0ac8-4132-a9fb-32bb3d6c67af"
      },
      "execution_count": 5,
      "outputs": [
        {
          "output_type": "stream",
          "name": "stdout",
          "text": [
            "Azhar Ali <class 'str'>\n",
            "23 <class 'int'>\n",
            "5.9 <class 'float'>\n"
          ]
        }
      ]
    },
    {
      "cell_type": "code",
      "source": [
        "number=int(input('Enter a number:'))\n",
        "if number>0:\n",
        "    print('number is Positive')\n",
        "elif number<0:\n",
        "    print('number is Negative')\n",
        "else:\n",
        "    print('number is Zero')"
      ],
      "metadata": {
        "colab": {
          "base_uri": "https://localhost:8080/"
        },
        "id": "KpC84ewsGPfF",
        "outputId": "3e8e71eb-f98e-441b-bc23-d38a9b184ce7"
      },
      "execution_count": 10,
      "outputs": [
        {
          "output_type": "stream",
          "name": "stdout",
          "text": [
            "Enter a number:20\n",
            "number is Positive\n"
          ]
        }
      ]
    },
    {
      "cell_type": "code",
      "source": [
        "fruits=['Apple','Banana','Mango']\n",
        "for fruit in fruits:\n",
        "    print(fruit)\n",
        "fruits.append('Grapes')\n",
        "print(fruits)\n",
        "fruits.remove('Banana')\n",
        "print(fruits)\n",
        "fruits.insert(1,'malta')\n",
        "print(fruits)"
      ],
      "metadata": {
        "colab": {
          "base_uri": "https://localhost:8080/"
        },
        "id": "u2tafAqWHcnL",
        "outputId": "d05b4b9e-3878-4d7f-88e7-d0540b0f7a76"
      },
      "execution_count": 13,
      "outputs": [
        {
          "output_type": "stream",
          "name": "stdout",
          "text": [
            "Apple\n",
            "Banana\n",
            "Mango\n",
            "['Apple', 'Banana', 'Mango', 'Grapes']\n",
            "['Apple', 'Mango', 'Grapes']\n",
            "['Apple', 'malta', 'Mango', 'Grapes']\n"
          ]
        }
      ]
    }
  ]
}