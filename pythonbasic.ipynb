{
  "nbformat": 4,
  "nbformat_minor": 0,
  "metadata": {
    "colab": {
      "provenance": [],
      "authorship_tag": "ABX9TyNtcw0LuBdYo6cY0UlSwivV",
      "include_colab_link": true
    },
    "kernelspec": {
      "name": "python3",
      "display_name": "Python 3"
    },
    "language_info": {
      "name": "python"
    }
  },
  "cells": [
    {
      "cell_type": "markdown",
      "metadata": {
        "id": "view-in-github",
        "colab_type": "text"
      },
      "source": [
        "<a href=\"https://colab.research.google.com/github/azharbangash/Machine-learning/blob/main/pythonbasic.ipynb\" target=\"_parent\"><img src=\"https://colab.research.google.com/assets/colab-badge.svg\" alt=\"Open In Colab\"/></a>"
      ]
    },
    {
      "cell_type": "code",
      "execution_count": 1,
      "metadata": {
        "id": "YoEDhF-O_rw4",
        "colab": {
          "base_uri": "https://localhost:8080/"
        },
        "outputId": "763d3c41-564a-47bd-de00-f88026ca9cb6"
      },
      "outputs": [
        {
          "output_type": "stream",
          "name": "stdout",
          "text": [
            " Hey I am Azhar Ali \n"
          ]
        }
      ],
      "source": [
        "\n",
        "print(\" Hey I am Azhar Ali \")"
      ]
    },
    {
      "cell_type": "code",
      "source": [
        "age= 23\n",
        "height= 5.9\n",
        "name= \"Azhar Ali\"\n",
        "print(\"Name: \",name,\"\\nAge: \",age,\"\\nHeight: \",height, )"
      ],
      "metadata": {
        "colab": {
          "base_uri": "https://localhost:8080/"
        },
        "id": "mOJWbZjJDUDB",
        "outputId": "e791c7d4-1e51-4ec3-e8fa-8e964fea272d"
      },
      "execution_count": 4,
      "outputs": [
        {
          "output_type": "stream",
          "name": "stdout",
          "text": [
            "Name:  Azhar Ali \n",
            "Age:  23 \n",
            "Height:  5.9\n"
          ]
        }
      ]
    },
    {
      "cell_type": "code",
      "source": [],
      "metadata": {
        "id": "kt4w20pLEONw"
      },
      "execution_count": null,
      "outputs": []
    }
  ]
}