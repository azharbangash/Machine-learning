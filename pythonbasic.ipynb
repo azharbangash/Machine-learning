{
  "nbformat": 4,
  "nbformat_minor": 0,
  "metadata": {
    "colab": {
      "provenance": [],
      "authorship_tag": "ABX9TyPRabmx1mPmrb9sWhSo3WEl",
      "include_colab_link": true
    },
    "kernelspec": {
      "name": "python3",
      "display_name": "Python 3"
    },
    "language_info": {
      "name": "python"
    }
  },
  "cells": [
    {
      "cell_type": "markdown",
      "metadata": {
        "id": "view-in-github",
        "colab_type": "text"
      },
      "source": [
        "<a href=\"https://colab.research.google.com/github/azharbangash/Machine-learning/blob/main/pythonbasic.ipynb\" target=\"_parent\"><img src=\"https://colab.research.google.com/assets/colab-badge.svg\" alt=\"Open In Colab\"/></a>"
      ]
    },
    {
      "cell_type": "code",
      "execution_count": 1,
      "metadata": {
        "id": "YoEDhF-O_rw4",
        "colab": {
          "base_uri": "https://localhost:8080/"
        },
        "outputId": "763d3c41-564a-47bd-de00-f88026ca9cb6"
      },
      "outputs": [
        {
          "output_type": "stream",
          "name": "stdout",
          "text": [
            " Hey I am Azhar Ali \n"
          ]
        }
      ],
      "source": [
        "print(\" Hey I am Azhar Ali \")"
      ]
    },
    {
      "cell_type": "code",
      "source": [
        "age= 23\n",
        "height= 5.9\n",
        "name= \"Azhar Ali\"\n",
        "print(\"Name: \",name,\"\\nAge: \",age,\"\\nHeight: \",height, )"
      ],
      "metadata": {
        "colab": {
          "base_uri": "https://localhost:8080/"
        },
        "id": "mOJWbZjJDUDB",
        "outputId": "e791c7d4-1e51-4ec3-e8fa-8e964fea272d"
      },
      "execution_count": 4,
      "outputs": [
        {
          "output_type": "stream",
          "name": "stdout",
          "text": [
            "Name:  Azhar Ali \n",
            "Age:  23 \n",
            "Height:  5.9\n"
          ]
        }
      ]
    },
    {
      "cell_type": "code",
      "source": [
        "print(name,type(name))\n",
        "print(age,type(age))\n",
        "print(height,type(height))"
      ],
      "metadata": {
        "colab": {
          "base_uri": "https://localhost:8080/"
        },
        "id": "kt4w20pLEONw",
        "outputId": "e43a9d1a-0ac8-4132-a9fb-32bb3d6c67af"
      },
      "execution_count": 5,
      "outputs": [
        {
          "output_type": "stream",
          "name": "stdout",
          "text": [
            "Azhar Ali <class 'str'>\n",
            "23 <class 'int'>\n",
            "5.9 <class 'float'>\n"
          ]
        }
      ]
    },
    {
      "cell_type": "code",
      "source": [
        "number=int(input('Enter a number:'))\n",
        "if number>0:\n",
        "    print('number is Positive')\n",
        "elif number<0:\n",
        "    print('number is Negative')\n",
        "else:\n",
        "    print('number is Zero')"
      ],
      "metadata": {
        "colab": {
          "base_uri": "https://localhost:8080/"
        },
        "id": "KpC84ewsGPfF",
        "outputId": "3e8e71eb-f98e-441b-bc23-d38a9b184ce7"
      },
      "execution_count": 10,
      "outputs": [
        {
          "output_type": "stream",
          "name": "stdout",
          "text": [
            "Enter a number:20\n",
            "number is Positive\n"
          ]
        }
      ]
    },
    {
      "cell_type": "code",
      "source": [
        "fruits=['Apple','Banana','Mango']\n",
        "for fruit in fruits:\n",
        "    print(fruit)\n",
        "fruits.append('Grapes')\n",
        "print(fruits)\n",
        "fruits.remove('Banana')\n",
        "print(fruits)\n",
        "fruits.insert(1,'malta')\n",
        "print(fruits)"
      ],
      "metadata": {
        "colab": {
          "base_uri": "https://localhost:8080/"
        },
        "id": "u2tafAqWHcnL",
        "outputId": "d05b4b9e-3878-4d7f-88e7-d0540b0f7a76"
      },
      "execution_count": 13,
      "outputs": [
        {
          "output_type": "stream",
          "name": "stdout",
          "text": [
            "Apple\n",
            "Banana\n",
            "Mango\n",
            "['Apple', 'Banana', 'Mango', 'Grapes']\n",
            "['Apple', 'Mango', 'Grapes']\n",
            "['Apple', 'malta', 'Mango', 'Grapes']\n"
          ]
        }
      ]
    },
    {
      "cell_type": "code",
      "source": [
        "name=input('Enter your name:')\n",
        "print('Hello',name, \"!\")"
      ],
      "metadata": {
        "colab": {
          "base_uri": "https://localhost:8080/"
        },
        "id": "zJcPKdvmJOn1",
        "outputId": "20b98e82-7e6d-4467-b6c2-dfe238c17482"
      },
      "execution_count": 15,
      "outputs": [
        {
          "output_type": "stream",
          "name": "stdout",
          "text": [
            "Enter your name:azhar\n",
            "Hello azhar !\n"
          ]
        }
      ]
    },
    {
      "cell_type": "code",
      "source": [
        "import matplotlib.pyplot as plt\n",
        "\n",
        "x=[1,2,3,4,5]\n",
        "y=[2,4,6,8,10]\n",
        "\n",
        "plt.plot(x,y)\n",
        "plt.title('Line Plot')\n",
        "plt.xlabel('X-axis')\n",
        "plt.ylabel('Y-axis')\n",
        "plt.show()"
      ],
      "metadata": {
        "colab": {
          "base_uri": "https://localhost:8080/",
          "height": 472
        },
        "id": "ZqSWahzSJayN",
        "outputId": "9cd3b23b-4ae4-4ea8-cb42-f9a56b451b69"
      },
      "execution_count": 21,
      "outputs": [
        {
          "output_type": "display_data",
          "data": {
            "text/plain": [
              "<Figure size 640x480 with 1 Axes>"
            ],
            "image/png": "[encoded data removed]"
          },
          "metadata": {}
        }
      ]
    },
    {
      "cell_type": "code",
      "source": [
        "import matplotlib.pyplot as plt\n",
        "\n",
        "x=[1,2,3,4,5]\n",
        "y=[2,4,6,8,10]\n",
        "\n",
        "plt.bar(x,y)\n",
        "plt.title('Line Plot')\n",
        "plt.xlabel('X-axis')\n",
        "plt.ylabel('Y-axis')\n",
        "plt.show()"
      ],
      "metadata": {
        "colab": {
          "base_uri": "https://localhost:8080/",
          "height": 472
        },
        "id": "G2CC208_KQuB",
        "outputId": "6e832d40-cc87-46e1-bf76-e048c58da08b"
      },
      "execution_count": 19,
      "outputs": [
        {
          "output_type": "display_data",
          "data": {
            "text/plain": [
              "<Figure size 640x480 with 1 Axes>"
            ],
            "image/png": "[encoded data removed]"
          },
          "metadata": {}
        }
      ]
    },
    {
      "cell_type": "code",
      "source": [
        "import matplotlib.pyplot as plt\n",
        "\n",
        "x=[1,2,3,4,5]\n",
        "y=[2,4,6,8,10]\n",
        "\n",
        "plt.scatter(x,y)\n",
        "plt.title('Line Plot')\n",
        "plt.xlabel('X-axis')\n",
        "plt.ylabel('Y-axis')\n",
        "plt.show()"
      ],
      "metadata": {
        "colab": {
          "base_uri": "https://localhost:8080/",
          "height": 472
        },
        "id": "wixRSO-IKXYI",
        "outputId": "66531891-72a8-4cbc-ce06-d82b35c60f1f"
      },
      "execution_count": 22,
      "outputs": [
        {
          "output_type": "display_data",
          "data": {
            "text/plain": [
              "<Figure size 640x480 with 1 Axes>"
            ],
            "image/png": "[encoded data removed]"
          },
          "metadata": {}
        }
      ]
    },
    {
      "cell_type": "code",
      "source": [
        "a=5\n",
        "b=10\n",
        "a, b = b, a\n",
        "print(\"a =\", a)\n",
        "print(\"b =\", b)"
      ],
      "metadata": {
        "colab": {
          "base_uri": "https://localhost:8080/"
        },
        "id": "9QiQfC22LBoH",
        "outputId": "c482e22a-d84a-4950-eb8a-e41d0d5d58a7"
      },
      "execution_count": 30,
      "outputs": [
        {
          "output_type": "stream",
          "name": "stdout",
          "text": [
            "a = 10\n",
            "b = 5\n"
          ]
        }
      ]
    },
    {
      "cell_type": "code",
      "source": [
        "def add(x,y):\n",
        "  return x+y\n",
        "def sub(x,y):\n",
        "  return x-y\n",
        "def mul(x,y):\n",
        "  return x*y\n",
        "def div(x,y):\n",
        "  if y==0:\n",
        "    return \"Error: Division by zero\"\n",
        "  else:\n",
        "    return x/y\n",
        "x=int(input(\"Enter first number: \"))\n",
        "y=int(input(\"Enter second number: \"))\n",
        "print(\"addistion: \",add(x,y))\n",
        "print(\"subtraction: \",sub(x,y))\n",
        "print(\"multiplication: \",mul(x,y))\n",
        "print(\"division: \",div(x,y))"
      ],
      "metadata": {
        "colab": {
          "base_uri": "https://localhost:8080/"
        },
        "id": "GLo4XmbhMQZz",
        "outputId": "10e72450-8dff-41d2-c935-003b4275b4c8"
      },
      "execution_count": 35,
      "outputs": [
        {
          "output_type": "stream",
          "name": "stdout",
          "text": [
            "Enter first number: 20\n",
            "Enter second number: 22\n",
            "addistion:  42\n",
            "subtraction:  -2\n",
            "multiplication:  440\n",
            "division:  0.9090909090909091\n"
          ]
        }
      ]
    }
  ]
}