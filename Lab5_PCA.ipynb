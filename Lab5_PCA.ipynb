{
  "nbformat": 4,
  "nbformat_minor": 0,
  "metadata": {
    "colab": {
      "provenance": [],
      "include_colab_link": true
    },
    "kernelspec": {
      "name": "python3",
      "display_name": "Python 3"
    },
    "language_info": {
      "name": "python"
    }
  },
  "cells": [
    {
      "cell_type": "markdown",
      "metadata": {
        "id": "view-in-github",
        "colab_type": "text"
      },
      "source": [
        "<a href=\"https://colab.research.google.com/github/azharbangash/Machine-learning/blob/main/Lab5_PCA.ipynb\" target=\"_parent\"><img src=\"https://colab.research.google.com/assets/colab-badge.svg\" alt=\"Open In Colab\"/></a>"
      ]
    },
    {
      "cell_type": "code",
      "execution_count": 1,
      "metadata": {
        "id": "giEDbeMnPTdG",
        "colab": {
          "base_uri": "https://localhost:8080/"
        },
        "outputId": "c70902e0-37ff-4bb7-c456-bcbce6f787c8"
      },
      "outputs": [
        {
          "output_type": "stream",
          "name": "stdout",
          "text": [
            "Step 1: Get some data\n",
            "Data:\n",
            " [[2.5 2.4]\n",
            " [0.5 0.7]\n",
            " [2.2 2.9]\n",
            " [1.9 2.2]\n",
            " [3.1 3. ]\n",
            " [2.3 2.7]\n",
            " [2.  1.6]\n",
            " [1.  1.1]\n",
            " [1.5 1.6]\n",
            " [1.1 0.9]]\n"
          ]
        }
      ],
      "source": [
        "import numpy as np\n",
        "import matplotlib.pyplot as plt\n",
        "\n",
        "# Step 1: Get some data\n",
        "x = np.array([2.5, 0.5, 2.2, 1.9, 3.1, 2.3, 2.0, 1.0, 1.5, 1.1])\n",
        "y = np.array([2.4, 0.7, 2.9, 2.2, 3.0, 2.7, 1.6, 1.1, 1.6, 0.9])\n",
        "data = np.array([x, y]).T  # Convert to (n, 2) shape\n",
        "\n",
        "print(\"Step 1: Get some data\")\n",
        "print(\"Data:\\n\", data)"
      ]
    },
    {
      "cell_type": "code",
      "source": [
        "# Step 2: Subtract the mean\n",
        "mean_x = np.mean(x)\n",
        "mean_y = np.mean(y)\n",
        "mean_vector = np.array([mean_x, mean_y])\n",
        "centered_data = data - mean_vector  # Subtract mean\n",
        "print(\"\\nStep 2: Subtract the mean\")\n",
        "print(\"Mean_x:\", mean_x, \"Mean_y:\", mean_y)\n",
        "print(\"Centered Data:\\n\", centered_data)"
      ],
      "metadata": {
        "id": "gtIdCzboQanx",
        "colab": {
          "base_uri": "https://localhost:8080/"
        },
        "outputId": "c6380a69-01f9-4a6f-a315-843bcd8dd2b1"
      },
      "execution_count": 2,
      "outputs": [
        {
          "output_type": "stream",
          "name": "stdout",
          "text": [
            "\n",
            "Step 2: Subtract the mean\n",
            "Mean_x: 1.81 Mean_y: 1.9100000000000001\n",
            "Centered Data:\n",
            " [[ 0.69  0.49]\n",
            " [-1.31 -1.21]\n",
            " [ 0.39  0.99]\n",
            " [ 0.09  0.29]\n",
            " [ 1.29  1.09]\n",
            " [ 0.49  0.79]\n",
            " [ 0.19 -0.31]\n",
            " [-0.81 -0.81]\n",
            " [-0.31 -0.31]\n",
            " [-0.71 -1.01]]\n"
          ]
        }
      ]
    },
    {
      "cell_type": "code",
      "source": [
        "# Step 3: Calculate the Covariance Matrix\n",
        "cov_matrix = np.cov (centered_data, rowvar=False)\n",
        "print(\"\\nStep 3: Covariance Matrix:\\n\", cov_matrix)\n",
        "# Step 4: Calculate Eigenvalues & Eigenvectors\n",
        "eigenvalues, eigenvectors = np.linalg.eig(cov_matrix)\n",
        "print(\"\\nStep 4: Eigenvalues:\\n\", eigenvalues)\n",
        "print(\"Eigenvectors:\\n\", eigenvectors)"
      ],
      "metadata": {
        "id": "WpL9epghQct3",
        "colab": {
          "base_uri": "https://localhost:8080/"
        },
        "outputId": "da119efe-8407-4337-b390-af1ee711e9e3"
      },
      "execution_count": 4,
      "outputs": [
        {
          "output_type": "stream",
          "name": "stdout",
          "text": [
            "\n",
            "Step 3: Covariance Matrix:\n",
            " [[0.61655556 0.61544444]\n",
            " [0.61544444 0.71655556]]\n",
            "\n",
            "Step 4: Eigenvalues:\n",
            " [0.0490834  1.28402771]\n",
            "Eigenvectors:\n",
            " [[-0.73517866 -0.6778734 ]\n",
            " [ 0.6778734  -0.73517866]]\n"
          ]
        }
      ]
    },
    {
      "cell_type": "code",
      "source": [
        "# Step 5: Choose the Principal Component\n",
        "sorted_indices= np.argsort(eigenvalues) [::-1] # Sort in descending order\n",
        "principal_component=eigenvectors[:, sorted_indices [0]] # Top eigenvector\n",
        "print(\"\\nStep 5: Principal Component:\\n\", principal_component)\n",
        "# Step 6: Project data onto the Principal Component (1D data)\n",
        "pca_1d = np.dot(centered_data, principal_component)\n",
        "print(\"\\nStep 6: Reduced Data:\\n\", pca_1d)\n"
      ],
      "metadata": {
        "id": "3k_Svzs8Qn6Q",
        "colab": {
          "base_uri": "https://localhost:8080/"
        },
        "outputId": "7b879643-f68c-4e70-cbe7-ab48dba6cea2"
      },
      "execution_count": 6,
      "outputs": [
        {
          "output_type": "stream",
          "name": "stdout",
          "text": [
            "\n",
            "Step 5: Principal Component:\n",
            " [-0.6778734  -0.73517866]\n",
            "\n",
            "Step 6: Reduced Data:\n",
            " [-0.82797019  1.77758033 -0.99219749 -0.27421042 -1.67580142 -0.9129491\n",
            "  0.09910944  1.14457216  0.43804614  1.22382056]\n"
          ]
        }
      ]
    },
    {
      "cell_type": "code",
      "source": [
        "# Plot the original data\n",
        "plt.figure(figsize=(8, 4))\n",
        "plt.subplot(1, 2, 1)\n",
        "plt.scatter(x, y, color='blue')\n",
        "plt.xlabel('X')\n",
        "plt.ylabel('Y')\n",
        "plt.title('Original Data')\n",
        "# Plot the reduced 1D data\n",
        "plt.subplot(1, 2, 2)\n",
        "plt.scatter (pca_1d, np.zeros_like(pca_1d), color='purple')\n",
        "plt.xlabel('Principal Component 1')\n",
        "plt.title('Reduced Dimensionality Dataset')\n",
        "plt.tight_layout()\n",
        "plt.show()"
      ],
      "metadata": {
        "id": "umSpLqeIQtqf",
        "colab": {
          "base_uri": "https://localhost:8080/",
          "height": 407
        },
        "outputId": "b584523e-774d-46a8-a6da-a1f05acf021e"
      },
      "execution_count": 7,
      "outputs": [
        {
          "output_type": "display_data",
          "data": {
            "text/plain": [
              "<Figure size 800x400 with 2 Axes>"
            ],
            "image/png": "[encoded data removed]"
          },
          "metadata": {}
        }
      ]
    }
  ]
}